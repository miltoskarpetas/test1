{
  "nbformat": 4,
  "nbformat_minor": 0,
  "metadata": {
    "anaconda-cloud": {},
    "kernelspec": {
      "display_name": "Python 3",
      "language": "python",
      "name": "python3"
    },
    "language_info": {
      "codemirror_mode": {
        "name": "ipython",
        "version": 3
      },
      "file_extension": ".py",
      "mimetype": "text/x-python",
      "name": "python",
      "nbconvert_exporter": "python",
      "pygments_lexer": "ipython3",
      "version": "3.6.6"
    },
    "colab": {
      "name": "Copy of 3_numbers_and_text.ipynb",
      "provenance": [],
      "include_colab_link": true
    }
  },
  "cells": [
    {
      "cell_type": "markdown",
      "metadata": {
        "id": "view-in-github",
        "colab_type": "text"
      },
      "source": [
        "<a href=\"https://colab.research.google.com/github/miltoskarpetas/test1/blob/master/Copy_of_3_numbers_and_text.ipynb\" target=\"_parent\"><img src=\"https://colab.research.google.com/assets/colab-badge.svg\" alt=\"Open In Colab\"/></a>"
      ]
    },
    {
      "cell_type": "markdown",
      "metadata": {
        "id": "4BYpZaefciU1",
        "colab_type": "text"
      },
      "source": [
        "# ΧΕΙΡΙΣΜΟΣ ΑΡΙΘΜΩΝ ΚΑΙ ΚΕΙΜΕΝΟΥ"
      ]
    },
    {
      "cell_type": "markdown",
      "metadata": {
        "id": "vfNOzwdGciU4",
        "colab_type": "text"
      },
      "source": [
        "### * Μετατροπή δεκαδικών σε δυαδικούς ακέραιους "
      ]
    },
    {
      "cell_type": "code",
      "metadata": {
        "id": "PVJwGJLUciU6",
        "colab_type": "code",
        "outputId": "1f998e38-2925-4a9e-8241-211028c78d0f",
        "colab": {
          "base_uri": "https://localhost:8080/",
          "height": 68
        }
      },
      "source": [
        "# Conversion from decimal to binary through built-in function bin()\n",
        "\n",
        "decimal = int(input(\"Enter a decimal integer: \"))\n",
        "print (\"The binary representation is\",  int(bin(decimal)[2:]))\n",
        "print (\"The representation is\",  bin(decimal))"
      ],
      "execution_count": 0,
      "outputs": [
        {
          "output_type": "stream",
          "text": [
            "Enter a decimal integer: 20\n",
            "The binary representation is 10100\n",
            "The representation is 0b10100\n"
          ],
          "name": "stdout"
        }
      ]
    },
    {
      "cell_type": "code",
      "metadata": {
        "id": "SBkcn8_jciU_",
        "colab_type": "code",
        "outputId": "6945f9d3-8dd9-4319-b2a9-a87319a17dcb",
        "colab": {
          "base_uri": "https://localhost:8080/",
          "height": 136
        }
      },
      "source": [
        "# Conversion from decimal to binary (indirectly with remainders)\n",
        "\n",
        "decimal = int(input(\"Enter a decimal integer: \"))\n",
        "if decimal == 0: \n",
        "    print (0)\n",
        "else:\n",
        "    print (\"Quotient Remainder Binary\")\n",
        "    bstring = \"\"\n",
        "    while decimal > 0:\n",
        "        remainder = decimal % 2\n",
        "        decimal = decimal // 2\n",
        "        bstring = str(remainder) + bstring\n",
        "        print (\"%5d%8d%12s\" % (decimal, remainder, bstring))\n",
        "    print (\"The binary representation is\", bstring)  "
      ],
      "execution_count": 2,
      "outputs": [
        {
          "output_type": "stream",
          "text": [
            "Enter a decimal integer: 15\n",
            "Quotient Remainder Binary\n",
            "    7       1           1\n",
            "    3       1          11\n",
            "    1       1         111\n",
            "    0       1        1111\n",
            "The binary representation is 1111\n"
          ],
          "name": "stdout"
        }
      ]
    },
    {
      "cell_type": "markdown",
      "metadata": {
        "id": "jI8Y7Ts2ciVD",
        "colab_type": "text"
      },
      "source": [
        "### * Μετατροπή δυαδικών σε δεκαδικούς ακέραιους "
      ]
    },
    {
      "cell_type": "code",
      "metadata": {
        "id": "qOYkZvgwciVE",
        "colab_type": "code",
        "outputId": "54d2bf59-e7c9-4a68-a931-4c6b53d1ae9b",
        "colab": {
          "base_uri": "https://localhost:8080/",
          "height": 51
        }
      },
      "source": [
        "# Conversion from binary to decimal through built-in function int()\n",
        "\n",
        "binary = int(input(\"Enter a string of bits: \")) \n",
        "# (in the form \"0b...\")\n",
        "print (\"The decimal value is\",  int(str(binary), 2)) "
      ],
      "execution_count": 3,
      "outputs": [
        {
          "output_type": "stream",
          "text": [
            "Enter a string of bits: 110011\n",
            "The decimal value is 51\n"
          ],
          "name": "stdout"
        }
      ]
    },
    {
      "cell_type": "code",
      "metadata": {
        "id": "IZf7WecsciVI",
        "colab_type": "code",
        "outputId": "c7f12cfb-48b5-4545-aea3-7e8d857ca8a6",
        "colab": {
          "base_uri": "https://localhost:8080/",
          "height": 50
        }
      },
      "source": [
        "# Conversion from binary to decimal\n",
        "\n",
        "bstring = input(\"Enter a string of bits: \")\n",
        "decimal = 0\n",
        "exponent = len(bstring) - 1\n",
        "for digit in bstring:\n",
        "    decimal = decimal + int(digit) * 2 ** exponent\n",
        "    exponent = exponent - 1\n",
        "print (\"The decimal value is\", decimal)"
      ],
      "execution_count": 0,
      "outputs": [
        {
          "output_type": "stream",
          "text": [
            "Enter a string of bits: 1111\n",
            "The decimal value is 15\n"
          ],
          "name": "stdout"
        }
      ]
    },
    {
      "cell_type": "code",
      "metadata": {
        "id": "Rewkj33TciVL",
        "colab_type": "code",
        "outputId": "e33cbbaf-97f7-492d-c330-f6bd828a4fde",
        "colab": {
          "base_uri": "https://localhost:8080/",
          "height": 51
        }
      },
      "source": [
        "# Conversion from binary to decimal that works for floats too!\n",
        "\n",
        "binary = input(\"Enter a binary float \")\n",
        "\n",
        "d = binary.split('.')\n",
        "l1 = len(d[0])\n",
        "l2 = len(d[1])\n",
        "dd1 = list(d[0])\n",
        "dd2 = list(d[1])\n",
        "\n",
        "\n",
        "int_part = 0\n",
        "for i in range(0,l1):\n",
        "    int_part = int_part + int(dd1[i])*2**(l1-1-i)\n",
        "\n",
        "fl_part = 0.\n",
        "for i in range(0,l2):\n",
        "    fl_part = fl_part + int(dd2[i])*2**(-i-1)\n",
        "\n",
        "print (int_part + fl_part)"
      ],
      "execution_count": 0,
      "outputs": [
        {
          "output_type": "stream",
          "text": [
            "Enter a binary float 111.111\n",
            "7.875\n"
          ],
          "name": "stdout"
        }
      ]
    },
    {
      "cell_type": "markdown",
      "metadata": {
        "id": "NiDHHd9CciVQ",
        "colab_type": "text"
      },
      "source": [
        "### * Μετατροπή δεκαδικών σε οκταδικούς ακέραιους "
      ]
    },
    {
      "cell_type": "code",
      "metadata": {
        "id": "NWOJeNSiciVR",
        "colab_type": "code",
        "outputId": "7e0e34f3-1dc5-4c84-dbbf-25bd38f2cb67",
        "colab": {
          "base_uri": "https://localhost:8080/",
          "height": 50
        }
      },
      "source": [
        "# Conversion from decimal to octal through built-in function oct()\n",
        "\n",
        "decimal = int(input(\"Enter a decimal integer: \"))\n",
        "print (\"The octal representation is\",  oct(decimal))"
      ],
      "execution_count": 0,
      "outputs": [
        {
          "output_type": "stream",
          "text": [
            "Enter a decimal integer: 112\n",
            "The octal representation is 0o160\n"
          ],
          "name": "stdout"
        }
      ]
    },
    {
      "cell_type": "code",
      "metadata": {
        "id": "WyU47Cv1ciVU",
        "colab_type": "code",
        "outputId": "fbeee938-8465-4ebe-8fac-3ac3963fa177",
        "colab": {
          "base_uri": "https://localhost:8080/",
          "height": 118
        }
      },
      "source": [
        "# Conversion from decimal to octal\n",
        "\n",
        "decimal = int(input(\"Enter a decimal integer: \"))\n",
        "if decimal == 0: \n",
        "    print (0)\n",
        "else:\n",
        "    print (\"Quotient Remainder Octal\")\n",
        "    bstring = \"\"\n",
        "    while decimal > 0:\n",
        "        remainder = decimal % 8\n",
        "        decimal = decimal // 8\n",
        "        bstring = str(remainder) + bstring\n",
        "        print (\"%5d%8d%11s\" % (decimal, remainder, bstring))\n",
        "    print (\"The octal representation is\", bstring)  "
      ],
      "execution_count": 0,
      "outputs": [
        {
          "output_type": "stream",
          "text": [
            "Enter a decimal integer: 112\n",
            "Quotient Remainder Octal\n",
            "   14       0          0\n",
            "    1       6         60\n",
            "    0       1        160\n",
            "The octal representation is 160\n"
          ],
          "name": "stdout"
        }
      ]
    },
    {
      "cell_type": "code",
      "metadata": {
        "id": "CfUjOQ3ociVY",
        "colab_type": "code",
        "outputId": "11af907a-d7a5-459d-9142-ba03aa90cbab",
        "colab": {
          "base_uri": "https://localhost:8080/",
          "height": 50
        }
      },
      "source": [
        "# Conversion from octal to decimal through built-in function int()\n",
        "\n",
        "octal = input(\"Enter an octal integer: \")\n",
        "print (\"The decimal value is\",  int(str(octal), 8))"
      ],
      "execution_count": 0,
      "outputs": [
        {
          "output_type": "stream",
          "text": [
            "Enter an octal integer: 160\n",
            "The decimal value is 112\n"
          ],
          "name": "stdout"
        }
      ]
    },
    {
      "cell_type": "code",
      "metadata": {
        "id": "gklbFEH_ciVc",
        "colab_type": "code",
        "outputId": "4451cb58-651f-41ad-84e5-f1a926e200c8",
        "colab": {
          "base_uri": "https://localhost:8080/",
          "height": 50
        }
      },
      "source": [
        "# Conversion from octal to decimal\n",
        "\n",
        "bstring = input(\"Enter an octal integer: \")\n",
        "octal = 0\n",
        "exponent = len(bstring) - 1\n",
        "for digit in bstring:\n",
        "    octal = octal + int(digit) * 8 ** exponent\n",
        "    exponent = exponent - 1\n",
        "print (\"The decimal value is\", octal)"
      ],
      "execution_count": 0,
      "outputs": [
        {
          "output_type": "stream",
          "text": [
            "Enter an octal integer: 160\n",
            "The decimal value is 112\n"
          ],
          "name": "stdout"
        }
      ]
    },
    {
      "cell_type": "markdown",
      "metadata": {
        "id": "zImdwCCqciVg",
        "colab_type": "text"
      },
      "source": [
        "### * Μετατροπή σε δεκαεξαδικούς ακέραιους "
      ]
    },
    {
      "cell_type": "code",
      "metadata": {
        "id": "_HQb4bpnciVh",
        "colab_type": "code",
        "outputId": "77582f30-b8e5-4953-99d7-4999b4f25ca9",
        "colab": {
          "base_uri": "https://localhost:8080/",
          "height": 50
        }
      },
      "source": [
        "# Conversion from hexadecimal to decimal through built-in function hex() \n",
        "\n",
        "decimal = input(\"Enter a decimal integer: \")\n",
        "print (\"The decimal value is\",  int(str(decimal), 16))"
      ],
      "execution_count": 0,
      "outputs": [
        {
          "output_type": "stream",
          "text": [
            "Enter a decimal integer: 122\n",
            "The decimal value is 290\n"
          ],
          "name": "stdout"
        }
      ]
    },
    {
      "cell_type": "markdown",
      "metadata": {
        "id": "XZ0nDrPBciVm",
        "colab_type": "text"
      },
      "source": [
        "# Κωδικοποίηση - Αποκωδικοποίηση αγγλικού κειμένου με την κρυπτογράφηση του Καίσαρα"
      ]
    },
    {
      "cell_type": "code",
      "metadata": {
        "id": "_AcGXG8dciVn",
        "colab_type": "code",
        "outputId": "8d43ca73-34c2-4400-af4b-28cfad05b614",
        "colab": {
          "base_uri": "https://localhost:8080/",
          "height": 67
        }
      },
      "source": [
        "plainText = input(\"Enter a one-word, lowercase message: \")\n",
        "distance = int(input(\"Enter the distance value: \"))\n",
        "code = ''\n",
        "for ch in plainText:\n",
        "    ordValue = ord(ch)\n",
        "    cipherValue = ordValue + distance\n",
        "    if cipherValue > ord('z'):\n",
        "        cipherValue -=26\n",
        "    code +=  chr(cipherValue)\n",
        "print (code)"
      ],
      "execution_count": 0,
      "outputs": [
        {
          "output_type": "stream",
          "text": [
            "Enter a one-word, lowercase message: asdf\n",
            "Enter the distance value: 2\n",
            "cufh\n"
          ],
          "name": "stdout"
        }
      ]
    },
    {
      "cell_type": "code",
      "metadata": {
        "id": "7K75-jfIciVq",
        "colab_type": "code",
        "outputId": "9e7e0a2d-ed39-4a37-c988-c3a43941e83f",
        "colab": {
          "base_uri": "https://localhost:8080/",
          "height": 67
        }
      },
      "source": [
        "code = input(\"Enter the coded text: \")\n",
        "distance = int(input(\"Enter the distance value: \"))\n",
        "plainText = ''\n",
        "for ch in code:\n",
        "    ordValue = ord(ch)\n",
        "    cipherValue = ordValue - distance\n",
        "    if cipherValue < ord('a'):\n",
        "        cipherValue += 26\n",
        "    plainText +=  chr(cipherValue)\n",
        "print (plainText)"
      ],
      "execution_count": 0,
      "outputs": [
        {
          "output_type": "stream",
          "text": [
            "Enter the coded text: cufh\n",
            "Enter the distance value: 2\n",
            "asdf\n"
          ],
          "name": "stdout"
        }
      ]
    },
    {
      "cell_type": "code",
      "metadata": {
        "id": "Uf3k6l_UciVt",
        "colab_type": "code",
        "outputId": "7f0ca37e-b284-4d5a-9778-54d1c4c8e9e5",
        "colab": {
          "base_uri": "https://localhost:8080/",
          "height": 34
        }
      },
      "source": [
        "ord('a')"
      ],
      "execution_count": 0,
      "outputs": [
        {
          "output_type": "execute_result",
          "data": {
            "text/plain": [
              "97"
            ]
          },
          "metadata": {
            "tags": []
          },
          "execution_count": 13
        }
      ]
    },
    {
      "cell_type": "code",
      "metadata": {
        "id": "RPRpXLjJciVw",
        "colab_type": "code",
        "outputId": "22880054-32c6-415f-f24c-cb02bad9345b",
        "colab": {
          "base_uri": "https://localhost:8080/",
          "height": 34
        }
      },
      "source": [
        "chr(98)"
      ],
      "execution_count": 0,
      "outputs": [
        {
          "output_type": "execute_result",
          "data": {
            "text/plain": [
              "'b'"
            ]
          },
          "metadata": {
            "tags": []
          },
          "execution_count": 15
        }
      ]
    },
    {
      "cell_type": "markdown",
      "metadata": {
        "id": "D_XQeTvEciV0",
        "colab_type": "text"
      },
      "source": [
        "## Συμβολοσειρές (strings)"
      ]
    },
    {
      "cell_type": "code",
      "metadata": {
        "id": "1RuzaHbfciV0",
        "colab_type": "code",
        "outputId": "90acae75-99a9-452a-edc5-6946d544555d",
        "colab": {
          "base_uri": "https://localhost:8080/",
          "height": 118
        }
      },
      "source": [
        "salut = \"Pws se lene?\"\n",
        "print ('Η συμβολοσειρά salut είναι η παρακάτω φράση:')\n",
        "print (salut)\n",
        "print ('Το μήκος της συμβολοσειράς salut είναι', len(salut))\n",
        "null1 = \"\"\n",
        "print ('Η συμβολοσειρά null1 είναι η παρακάτω κενή φράση:')\n",
        "print (null1)\n",
        "print ('Το μήκος της συμβολοσειράς null1 είναι', len(null1))"
      ],
      "execution_count": 0,
      "outputs": [
        {
          "output_type": "stream",
          "text": [
            "Η συμβολοσειρά salut είναι η παρακάτω φράση:\n",
            "Pws se lene?\n",
            "Το μήκος της συμβολοσειράς salut είναι 12\n",
            "Η συμβολοσειρά null1 είναι η παρακάτω κενή φράση:\n",
            "\n",
            "Το μήκος της συμβολοσειράς null1 είναι 0\n"
          ],
          "name": "stdout"
        }
      ]
    },
    {
      "cell_type": "markdown",
      "metadata": {
        "id": "6ocQnYaeciV4",
        "colab_type": "text"
      },
      "source": [
        "### Εκτύπωση στοιχείων συμβολοσειράς (ένα σε κάθε γραμμή)"
      ]
    },
    {
      "cell_type": "code",
      "metadata": {
        "id": "9dJPSDq5ciV4",
        "colab_type": "code",
        "outputId": "fbcd5a81-daf5-452b-8276-8d8ba3f499c0",
        "colab": {
          "base_uri": "https://localhost:8080/",
          "height": 269
        }
      },
      "source": [
        "print ('Η συμβολοσειρά salut είναι η παρακάτω φράση:')\n",
        "print (salut)\n",
        "\n",
        "print ('Τα στοιχεία της συμβολοσειράς είναι τα εξής για αρίθμηση από 0 (και από 1 σε παρένθεση):')\n",
        "\n",
        "for i in range(len(salut)):\n",
        "    print (i, '(' + str(i+1) + ') ' + salut[i])"
      ],
      "execution_count": 0,
      "outputs": [
        {
          "output_type": "stream",
          "text": [
            "Η συμβολοσειρά salut είναι η παρακάτω φράση:\n",
            "Pws se lene?\n",
            "Τα στοιχεία της συμβολοσειράς είναι τα εξής για αρίθμηση από 0 (και από 1 σε παρένθεση):\n",
            "0 (1) P\n",
            "1 (2) w\n",
            "2 (3) s\n",
            "3 (4)  \n",
            "4 (5) s\n",
            "5 (6) e\n",
            "6 (7)  \n",
            "7 (8) l\n",
            "8 (9) e\n",
            "9 (10) n\n",
            "10 (11) e\n",
            "11 (12) ?\n"
          ],
          "name": "stdout"
        }
      ]
    },
    {
      "cell_type": "markdown",
      "metadata": {
        "id": "HyJQJrLUciV7",
        "colab_type": "text"
      },
      "source": [
        "### Μήκος συμβολοσειράς και πρόσβαση στα στοιχεία της"
      ]
    },
    {
      "cell_type": "code",
      "metadata": {
        "id": "xeb_AWSZciV8",
        "colab_type": "code",
        "outputId": "3b98a148-da7b-45be-81d6-4dd4a54ff8c5",
        "colab": {
          "base_uri": "https://localhost:8080/",
          "height": 185
        }
      },
      "source": [
        "print ('Η συμβολοσειρά salut είναι η παρακάτω φράση:')\n",
        "salut = \"Pws se lene?\"\n",
        "print (salut)\n",
        "print ('Το μήκος της συμβολοσειράς salut είναι', len(salut))\n",
        "print ('Το πρώτο στοιχείο της συμβολοσειράς salut είναι', salut[0])\n",
        "print ('Το πέμπτο στοιχείο της συμβολοσειράς salut είναι', salut[4])\n",
        "print ('Το έβδομο στοιχείο της συμβολοσειράς salut είναι κενό', salut[6])\n",
        "print ('Το τελευταίο στοιχείο της συμβολοσειράς salut είναι', salut[-1])\n",
        "print ('Το δεύτερο από το τέλος στοιχείο της συμβολοσειράς salut είναι', salut[-2])\n",
        "print ('Το τρίτο από το τέλος στοιχείο της συμβολοσειράς salut είναι', salut[-3])\n",
        "print ('Σε διαφορετική σύνταξη, το τελευταίο στοιχείο της συμβολοσειράς salut είναι', salut[len(salut)-1])"
      ],
      "execution_count": 0,
      "outputs": [
        {
          "output_type": "stream",
          "text": [
            "Η συμβολοσειρά salut είναι η παρακάτω φράση:\n",
            "Pws se lene?\n",
            "Το μήκος της συμβολοσειράς salut είναι 12\n",
            "Το πρώτο στοιχείο της συμβολοσειράς salut είναι P\n",
            "Το πέμπτο στοιχείο της συμβολοσειράς salut είναι s\n",
            "Το έβδομο στοιχείο της συμβολοσειράς salut είναι κενό  \n",
            "Το τελευταίο στοιχείο της συμβολοσειράς salut είναι ?\n",
            "Το δεύτερο από το τέλος στοιχείο της συμβολοσειράς salut είναι e\n",
            "Το τρίτο από το τέλος στοιχείο της συμβολοσειράς salut είναι n\n",
            "Σε διαφορετική σύνταξη, το τελευταίο στοιχείο της συμβολοσειράς salut είναι ?\n"
          ],
          "name": "stdout"
        }
      ]
    },
    {
      "cell_type": "markdown",
      "metadata": {
        "id": "3AYBDDCJciV_",
        "colab_type": "text"
      },
      "source": [
        "### Τύπος συμβολοσειράς και αναλλοίωτο των στοιχείων της"
      ]
    },
    {
      "cell_type": "code",
      "metadata": {
        "id": "mpF_3NoIciWA",
        "colab_type": "code",
        "outputId": "06a83bda-923c-42fc-d9f2-7875b53867b5",
        "colab": {
          "base_uri": "https://localhost:8080/",
          "height": 246
        }
      },
      "source": [
        "salut = 'Pws se lene?'\n",
        "print ('Ο τύπος μιας συμβολοσειράς είναι str:')\n",
        "print (type(salut))\n",
        "# Αντίθετα με ό,τι γίνεται με λίστες, τα στοιχεία μιας συμβολοσειράς είναι αναλλοίωτα!\n",
        "salut[1] = 'a'\n",
        "# Όμως λίγο πιο κάτω θα δούμε ότι μπορούμε να αλλάζουμε τα στοιχεία μιας συμβολοσειράς με το replace"
      ],
      "execution_count": 0,
      "outputs": [
        {
          "output_type": "stream",
          "text": [
            "Ο τύπος μιας συμβολοσειράς είναι str:\n",
            "<class 'str'>\n"
          ],
          "name": "stdout"
        },
        {
          "output_type": "error",
          "ename": "TypeError",
          "evalue": "ignored",
          "traceback": [
            "\u001b[0;31m---------------------------------------------------------------------------\u001b[0m",
            "\u001b[0;31mTypeError\u001b[0m                                 Traceback (most recent call last)",
            "\u001b[0;32m<ipython-input-19-a603ac44223e>\u001b[0m in \u001b[0;36m<module>\u001b[0;34m()\u001b[0m\n\u001b[1;32m      3\u001b[0m \u001b[0mprint\u001b[0m \u001b[0;34m(\u001b[0m\u001b[0mtype\u001b[0m\u001b[0;34m(\u001b[0m\u001b[0msalut\u001b[0m\u001b[0;34m)\u001b[0m\u001b[0;34m)\u001b[0m\u001b[0;34m\u001b[0m\u001b[0;34m\u001b[0m\u001b[0m\n\u001b[1;32m      4\u001b[0m \u001b[0;31m# Αντίθετα με ό,τι γίνεται με λίστες, τα στοιχεία μιας συμβολοσειράς είναι αναλλοίωτα!\u001b[0m\u001b[0;34m\u001b[0m\u001b[0;34m\u001b[0m\u001b[0;34m\u001b[0m\u001b[0m\n\u001b[0;32m----> 5\u001b[0;31m \u001b[0msalut\u001b[0m\u001b[0;34m[\u001b[0m\u001b[0;36m1\u001b[0m\u001b[0;34m]\u001b[0m \u001b[0;34m=\u001b[0m \u001b[0;34m'a'\u001b[0m\u001b[0;34m\u001b[0m\u001b[0;34m\u001b[0m\u001b[0m\n\u001b[0m\u001b[1;32m      6\u001b[0m \u001b[0;31m# Όμως λίγο πιο κάτω θα δούμε ότι μπορούμε να αλλάζουμε τα στοιχεία μιας συμβολοσειράς με το replace\u001b[0m\u001b[0;34m\u001b[0m\u001b[0;34m\u001b[0m\u001b[0;34m\u001b[0m\u001b[0m\n",
            "\u001b[0;31mTypeError\u001b[0m: 'str' object does not support item assignment"
          ]
        }
      ]
    },
    {
      "cell_type": "markdown",
      "metadata": {
        "id": "wbqtqvkIciWD",
        "colab_type": "text"
      },
      "source": [
        "### Ο τελεστής in για συμβολοσειρές"
      ]
    },
    {
      "cell_type": "code",
      "metadata": {
        "id": "-rF9b6wLciWE",
        "colab_type": "code",
        "outputId": "a58bf089-3d10-4e6d-aa87-2be24df483d1",
        "colab": {
          "base_uri": "https://localhost:8080/",
          "height": 101
        }
      },
      "source": [
        "# Ο τελεστής in για συμβολοσειρές ελέγχει αν κάποιος χαρακτήρας (ή μια υποσυμβολοσειρά) περιέχεται\n",
        "# μέσα σε μια δοθείσα συμβολοσειρά. Επιστρέφει True ή False.\n",
        "\n",
        "print ('Ανήκει το p στη συμβολοσειρά apple; Απάντηση:', 'p' in 'apple')\n",
        "print ('Ανήκει το i στη συμβολοσειρά apple; Απάντηση:', 'i' in 'apple')\n",
        "print ('Ανήκει το ap στη συμβολοσειρά apple; Απάντηση:', 'ap' in 'apple')\n",
        "print ('Ανήκει το pa στη συμβολοσειρά apple; Απάντηση:', 'pa' in 'apple')\n",
        "\n",
        "# Χρήση του τελεστού in μέσω βρόχου για την απομάκρυνση (π.χ.) όλων των φωνηέντων από μια συμβολοσειρά:\n",
        "\n",
        "vowels = \"aeiouAEIOU\"\n",
        "s = 'Apple'\n",
        "s_without_vowels = \"\"\n",
        "for letter in s:\n",
        "    if letter not in vowels:\n",
        "        s_without_vowels += letter\n",
        "print ('Απομάκρυνση φωνηέντων από την συμβολοσειρά Apple:', s_without_vowels)"
      ],
      "execution_count": 0,
      "outputs": [
        {
          "output_type": "stream",
          "text": [
            "Ανήκει το p στη συμβολοσειρά apple; Απάντηση: True\n",
            "Ανήκει το i στη συμβολοσειρά apple; Απάντηση: False\n",
            "Ανήκει το ap στη συμβολοσειρά apple; Απάντηση: True\n",
            "Ανήκει το pa στη συμβολοσειρά apple; Απάντηση: False\n",
            "Απομάκρυνση φωνηέντων από την συμβολοσειρά Apple: ppl\n"
          ],
          "name": "stdout"
        }
      ]
    },
    {
      "cell_type": "markdown",
      "metadata": {
        "id": "v1OTh_UkciWG",
        "colab_type": "text"
      },
      "source": [
        "### Τεμαχισμός (slicing) συμβολοσειράς σε διαστήματα στοιχείων"
      ]
    },
    {
      "cell_type": "code",
      "metadata": {
        "id": "t3GnUBrbciWH",
        "colab_type": "code",
        "outputId": "73f7d255-f2fa-44e5-d03e-c73e7425d2ce",
        "colab": {
          "base_uri": "https://localhost:8080/",
          "height": 218
        }
      },
      "source": [
        "print ('Η συμβολοσειρά salut είναι η παρακάτω φράση:')\n",
        "print (salut)\n",
        "print ('Το πέμπτο ως το όγδοο στοιχείο της συμβολοσειράς salut είναι τα εξής:') \n",
        "print (salut[4:30])\n",
        "print ('Το έκτο στοιχείο της συμβολοσειράς salut είναι το εξής:') \n",
        "print (salut[5:6])\n",
        "print ('Τα στοιχεία της συμβολοσειράς salut μετά το τρίτο είναι τα εξής:') \n",
        "print (salut[4:])\n",
        "print ('Τα στοιχεία της συμβολοσειράς salut μετά το τρίτο από το τέλος είναι τα εξής:') \n",
        "print (salut[-3:])\n",
        "print ('Όλη η συμβολοσειρά salut είναι ο εξής μέγιστος τεμαχισμός:') \n",
        "print (salut[:len(salut)])"
      ],
      "execution_count": 0,
      "outputs": [
        {
          "output_type": "stream",
          "text": [
            "Η συμβολοσειρά salut είναι η παρακάτω φράση:\n",
            "Pws se lene?\n",
            "Το πέμπτο ως το όγδοο στοιχείο της συμβολοσειράς salut είναι τα εξής:\n",
            "se lene?\n",
            "Το έκτο στοιχείο της συμβολοσειράς salut είναι το εξής:\n",
            "e\n",
            "Τα στοιχεία της συμβολοσειράς salut μετά το τρίτο είναι τα εξής:\n",
            "se lene?\n",
            "Τα στοιχεία της συμβολοσειράς salut μετά το τρίτο από το τέλος είναι τα εξής:\n",
            "ne?\n",
            "Όλη η συμβολοσειρά salut είναι ο εξής μέγιστος τεμαχισμός:\n",
            "Pws se lene?\n"
          ],
          "name": "stdout"
        }
      ]
    },
    {
      "cell_type": "markdown",
      "metadata": {
        "id": "oC-bpXAEciWJ",
        "colab_type": "text"
      },
      "source": [
        "### Χωρισμός (splitting) συμβολοσειράς σε μικρότερα κομμάτια"
      ]
    },
    {
      "cell_type": "code",
      "metadata": {
        "id": "QUc05i9pciWK",
        "colab_type": "code",
        "outputId": "ff690b07-5843-4165-ff6c-dea1bd59d907",
        "colab": {
          "base_uri": "https://localhost:8080/",
          "height": 168
        }
      },
      "source": [
        "print ('Η φράση salut είναι η εξής:')\n",
        "print (salut)\n",
        "list_of_words_in_salut = salut.split()\n",
        "print ('Οι λέξεις στην φράση salut σχηματίζονται από χωρισμό (splitting) ως προς τα κενά και αποτελούν την εξής λίστα:')\n",
        "print (list_of_words_in_salut)\n",
        "print ('Η συμβολοσειρά list_of_words_in_salut δεν έχει κενά αλλά μπορεί να χωρισθεί ως προς το _:')\n",
        "ss = 'list_of_words_in_salut'\n",
        "print (ss)\n",
        "lss = ss.split('_')\n",
        "print (lss)\n",
        "print ('Χωρισμός της φράσης salut ως προς το γράμμα e:')\n",
        "esa = salut.split('e')\n",
        "print (esa)"
      ],
      "execution_count": 0,
      "outputs": [
        {
          "output_type": "stream",
          "text": [
            "Η φράση salut είναι η εξής:\n",
            "Pws se lene?\n",
            "Οι λέξεις στην φράση salut σχηματίζονται από χωρισμό (splitting) ως προς τα κενά και αποτελούν την εξής λίστα:\n",
            "['Pws', 'se', 'lene?']\n",
            "Η συμβολοσειρά list_of_words_in_salut δεν έχει κενά αλλά μπορεί να χωρισθεί ως προς το _:\n",
            "list_of_words_in_salut\n",
            "['list', 'of', 'words', 'in', 'salut']\n",
            "Χωρισμός της φράσης salut ως προς το γράμμα e:\n",
            "['Pws s', ' l', 'n', '?']\n"
          ],
          "name": "stdout"
        }
      ]
    },
    {
      "cell_type": "markdown",
      "metadata": {
        "id": "S5_MvcCNciWN",
        "colab_type": "text"
      },
      "source": [
        "### Λέξεις σε μια φράση"
      ]
    },
    {
      "cell_type": "code",
      "metadata": {
        "id": "uRyrm79xciWO",
        "colab_type": "code",
        "outputId": "625967e5-288f-4c30-a082-f34942b06943",
        "colab": {
          "base_uri": "https://localhost:8080/",
          "height": 134
        }
      },
      "source": [
        "print ('Η φράση salut είναι η εξής:')\n",
        "print (salut)\n",
        "ws = salut.split()\n",
        "print ('Οι λέξεις στην φράση salut είναι οι εξής:')\n",
        "print (ws)\n",
        "print ('Η φράση salut περιέχει', len(ws), 'λέξεις')\n",
        "print ('Το μήκος της δεύτερης λέξης στην φράση salut είναι', len(ws[1]))\n",
        "sum = 0\n",
        "for i in ws:\n",
        "    sum += len(i)\n",
        "print ('Το μέσο μήκος των λέξεων στην φράση salut είναι', float(sum)/len(ws))"
      ],
      "execution_count": 0,
      "outputs": [
        {
          "output_type": "stream",
          "text": [
            "Η φράση salut είναι η εξής:\n",
            "Pws se lene?\n",
            "Οι λέξεις στην φράση salut είναι οι εξής:\n",
            "['Pws', 'se', 'lene?']\n",
            "Η φράση salut περιέχει 3 λέξεις\n",
            "Το μήκος της δεύτερης λέξης στην φράση salut είναι 2\n",
            "Το μέσο μήκος των λέξεων στην φράση salut είναι 3.3333333333333335\n"
          ],
          "name": "stdout"
        }
      ]
    },
    {
      "cell_type": "markdown",
      "metadata": {
        "id": "Eeedrj5WciWS",
        "colab_type": "text"
      },
      "source": [
        "### Άμεση αντικατάσταση γραμμάτων σε λέξη"
      ]
    },
    {
      "cell_type": "code",
      "metadata": {
        "id": "hDC0MV9IciWT",
        "colab_type": "code",
        "outputId": "6eb9c257-08c0-4734-9536-dbf5263bc68f",
        "colab": {
          "base_uri": "https://localhost:8080/",
          "height": 168
        }
      },
      "source": [
        "print ('Η φράση salut είναι η εξής:')\n",
        "salut = \"Pws se lene?\"\n",
        "print (salut)\n",
        "ws = salut.split()\n",
        "print ('Οι λέξεις στην φράση salut είναι οι εξής:')\n",
        "print (ws)\n",
        "print ('Αντικατάσταση γραμμάτων σε συμβολοσειρά μέσω της εντολής:')\n",
        "print (\"salut = salut.replace('?','')\")\n",
        "salut = salut.replace('?','')\n",
        "print ('Επομένως, οι καθαρές λέξεις της φράσης salut είναι:')\n",
        "ws = salut.split()\n",
        "print (ws)\n",
        "salut1 = salut.replace('e','o')\n",
        "print (salut1)"
      ],
      "execution_count": 0,
      "outputs": [
        {
          "output_type": "stream",
          "text": [
            "Η φράση salut είναι η εξής:\n",
            "Pws se lene?\n",
            "Οι λέξεις στην φράση salut είναι οι εξής:\n",
            "['Pws', 'se', 'lene?']\n",
            "Αντικατάσταση γραμμάτων σε συμβολοσειρά μέσω της εντολής:\n",
            "salut = salut.replace('?','')\n",
            "Επομένως, οι καθαρές λέξεις της φράσης salut είναι:\n",
            "['Pws', 'se', 'lene']\n",
            "Pws so lono\n"
          ],
          "name": "stdout"
        }
      ]
    },
    {
      "cell_type": "markdown",
      "metadata": {
        "id": "MhDPOFjUciWV",
        "colab_type": "text"
      },
      "source": [
        "### Έμμεση αντικατάσταση γραμμάτων σε λέξη"
      ]
    },
    {
      "cell_type": "code",
      "metadata": {
        "id": "hsSwPNYyciWW",
        "colab_type": "code",
        "outputId": "15738496-26ec-4081-d309-09874fe13544",
        "colab": {
          "base_uri": "https://localhost:8080/",
          "height": 252
        }
      },
      "source": [
        "print ('Η φράση salut είναι η εξής:')\n",
        "salut = \"Pws se lene?\"\n",
        "print (salut)\n",
        "ws = salut.split()\n",
        "print ('Οι λέξεις στην φράση salut είναι οι εξής:')\n",
        "print (ws)\n",
        "print ('Η τρίτη λέξη στην φράση salut είναι η εξής:')\n",
        "w2 = ws[2]\n",
        "print (w2)\n",
        "print ('Το τελευταίο σύμβολο (?) μπορεί να αφαιρεθεί ως εξής:')\n",
        "print ('Πρώτα μετατρέπουμε τη λέξη αυτή σε λίστα συμβόλων:')\n",
        "lw2 = list(w2)\n",
        "print (lw2)\n",
        "print ('Μετά αφαιρούμε το τελευταίο σύμβολο:')\n",
        "del lw2[-1]\n",
        "print (lw2)\n",
        "print ('Τέλος, συνενώνουμε την τελευταία λίστα σε συμβολοσειρά (χωρίς το ?):')\n",
        "lw2 = ''.join(lw2)\n",
        "print (lw2)\n",
        "lw3 = 'A'.join(lw2)\n",
        "print (lw3)"
      ],
      "execution_count": 0,
      "outputs": [
        {
          "output_type": "stream",
          "text": [
            "Η φράση salut είναι η εξής:\n",
            "Pws se lene?\n",
            "Οι λέξεις στην φράση salut είναι οι εξής:\n",
            "['Pws', 'se', 'lene?']\n",
            "Η τρίτη λέξη στην φράση salut είναι η εξής:\n",
            "lene?\n",
            "Το τελευταίο σύμβολο (?) μπορεί να αφαιρεθεί ως εξής:\n",
            "Πρώτα μετατρέπουμε τη λέξη αυτή σε λίστα συμβόλων:\n",
            "['l', 'e', 'n', 'e', '?']\n",
            "Μετά αφαιρούμε το τελευταίο σύμβολο:\n",
            "['l', 'e', 'n', 'e']\n",
            "Τέλος, συνενώνουμε την τελευταία λίστα σε συμβολοσειρά (χωρίς το ?):\n",
            "lene\n",
            "lAeAnAe\n"
          ],
          "name": "stdout"
        }
      ]
    },
    {
      "cell_type": "markdown",
      "metadata": {
        "id": "t2jWSkUociWZ",
        "colab_type": "text"
      },
      "source": [
        "## Μορφοποίηση (formatting) συμβολοσειρών"
      ]
    },
    {
      "cell_type": "code",
      "metadata": {
        "id": "MHex4A6QciWa",
        "colab_type": "code",
        "outputId": "070ae0de-3da7-4dc5-f3be-9f017a4d6d1c",
        "colab": {
          "base_uri": "https://localhost:8080/",
          "height": 67
        }
      },
      "source": [
        "# Η μορφοποίηση στην εκτύπωση συμβολοσειρών (και μεταβλητών) γίνεται μέσω \n",
        "# (1) του τελεστού % και \n",
        "# (2) κάποιων συμβόλων s, d, f, ...\n",
        "# Παραδείγματα:\n",
        "\n",
        "print ('To onoma tou patera mou einai %s' % 'Andreas')\n",
        "name = 'Anna'\n",
        "age = 18\n",
        "print ('H adelfi mou legetai %s kai einai %d etwn' % (name, age))\n",
        "n1 = 4\n",
        "n2 = 5\n",
        "print ('2**10 = %d and %d * %d = %d' % (2**10, n1, n2, n1 * n2))"
      ],
      "execution_count": 0,
      "outputs": [
        {
          "output_type": "stream",
          "text": [
            "To onoma tou patera mou einai Andreas\n",
            "H adelfi mou legetai Anna kai einai 18 etwn\n",
            "2**10 = 1024 and 4 * 5 = 20\n"
          ],
          "name": "stdout"
        }
      ]
    },
    {
      "cell_type": "code",
      "metadata": {
        "id": "_efsMpByciWc",
        "colab_type": "code",
        "outputId": "f43cbcb7-6a90-4507-d598-429ca08230aa",
        "colab": {
          "base_uri": "https://localhost:8080/",
          "height": 67
        }
      },
      "source": [
        "# Η εισαγωγή tab σε μια συμβολοσειρά βάζει τα τμήματά της σε προκαθορισμένες θέσεις.\n",
        "# Η αλλαγή γραμμής γίνεται με το \\n\n",
        "\n",
        "head = 'Students \\tage \\tgender \\tnationality'\n",
        "line1 = 'John \\t23 \\tmale \\tBritish'\n",
        "line2 = 'Maria \\t25 \\tfemale \\tGreek'\n",
        "print (head) \n",
        "print (line1) \n",
        "print (line2)"
      ],
      "execution_count": 0,
      "outputs": [
        {
          "output_type": "stream",
          "text": [
            "Students \tage \tgender \tnationality\n",
            "John \t23 \tmale \tBritish\n",
            "Maria \t25 \tfemale \tGreek\n"
          ],
          "name": "stdout"
        }
      ]
    },
    {
      "cell_type": "code",
      "metadata": {
        "id": "HvVPjD0PciWg",
        "colab_type": "code",
        "outputId": "780302a3-c055-4c20-bbd8-7fe4151c3a29",
        "colab": {
          "base_uri": "https://localhost:8080/",
          "height": 67
        }
      },
      "source": [
        "# Η προηγούμενη μορφοποίηση είναι λάθος. Για να διορθωθεί, προσθέτουμε ένα ακόμη tab σε 2 γραμμές\n",
        "\n",
        "head = 'Students \\tage \\tgender \\tnationality'\n",
        "line1 = 'John \\t \\t23 \\tmale \\tBritish'\n",
        "line2 = 'Maria \\t \\t25 \\tfemale \\tGreek'\n",
        "print (head) \n",
        "print (line1) \n",
        "print (line2)"
      ],
      "execution_count": 0,
      "outputs": [
        {
          "output_type": "stream",
          "text": [
            "Students \tage \tgender \tnationality\n",
            "John \t \t23 \tmale \tBritish\n",
            "Maria \t \t25 \tfemale \tGreek\n"
          ],
          "name": "stdout"
        }
      ]
    },
    {
      "cell_type": "code",
      "metadata": {
        "id": "7RJGdSslciWk",
        "colab_type": "code",
        "outputId": "c83db2a5-d390-41be-d016-c45cd276aebd",
        "colab": {
          "base_uri": "https://localhost:8080/",
          "height": 202
        }
      },
      "source": [
        "# Ένα άλλο παράδειγμα λανθασμένης μορφοποίησης είναι το εξής:\n",
        "\n",
        "i = 1\n",
        "print ('i\\ti**2\\ti**3\\ti**5\\ti**10\\ti**20')\n",
        "while i <= 10:\n",
        "    print (i, '\\t', i**2, '\\t', i**3, '\\t', i**5, '\\t', i**10, '\\t', i**20)\n",
        "    i += 1"
      ],
      "execution_count": 0,
      "outputs": [
        {
          "output_type": "stream",
          "text": [
            "i\ti**2\ti**3\ti**5\ti**10\ti**20\n",
            "1 \t 1 \t 1 \t 1 \t 1 \t 1\n",
            "2 \t 4 \t 8 \t 32 \t 1024 \t 1048576\n",
            "3 \t 9 \t 27 \t 243 \t 59049 \t 3486784401\n",
            "4 \t 16 \t 64 \t 1024 \t 1048576 \t 1099511627776\n",
            "5 \t 25 \t 125 \t 3125 \t 9765625 \t 95367431640625\n",
            "6 \t 36 \t 216 \t 7776 \t 60466176 \t 3656158440062976\n",
            "7 \t 49 \t 343 \t 16807 \t 282475249 \t 79792266297612001\n",
            "8 \t 64 \t 512 \t 32768 \t 1073741824 \t 1152921504606846976\n",
            "9 \t 81 \t 729 \t 59049 \t 3486784401 \t 12157665459056928801\n",
            "10 \t 100 \t 1000 \t 100000 \t 10000000000 \t 100000000000000000000\n"
          ],
          "name": "stdout"
        }
      ]
    },
    {
      "cell_type": "code",
      "metadata": {
        "id": "5jMCp5iHciWn",
        "colab_type": "code",
        "outputId": "5cf1034f-8d93-4df9-cc83-95dec500fcee",
        "colab": {
          "base_uri": "https://localhost:8080/",
          "height": 202
        }
      },
      "source": [
        "# Η διόρθωση γίνεται ως εξής:\n",
        "\n",
        "i = 1\n",
        "print ('%-3s%-5s%-6s%-8s%-13s%-15s' % ('i', 'i**2', 'i**3', 'i**5', 'i**10', 'i**20'))\n",
        "while i <= 10:\n",
        "    print ('%-3d%-5d%-6d%-8d%-13d%-15d' % (i, i**2, i**3, i**5, i**10, i**20))\n",
        "    i += 1"
      ],
      "execution_count": 0,
      "outputs": [
        {
          "output_type": "stream",
          "text": [
            "i  i**2 i**3  i**5    i**10        i**20          \n",
            "1  1    1     1       1            1              \n",
            "2  4    8     32      1024         1048576        \n",
            "3  9    27    243     59049        3486784401     \n",
            "4  16   64    1024    1048576      1099511627776  \n",
            "5  25   125   3125    9765625      95367431640625 \n",
            "6  36   216   7776    60466176     3656158440062976\n",
            "7  49   343   16807   282475249    79792266297612001\n",
            "8  64   512   32768   1073741824   1152921504606846976\n",
            "9  81   729   59049   3486784401   12157665459056928801\n",
            "10 100  1000  100000  10000000000  100000000000000000000\n"
          ],
          "name": "stdout"
        }
      ]
    },
    {
      "cell_type": "markdown",
      "metadata": {
        "id": "Qy9jtOz3ciWp",
        "colab_type": "text"
      },
      "source": [
        "## Χειρισμοί συμβολοσειρών"
      ]
    },
    {
      "cell_type": "markdown",
      "metadata": {
        "id": "eP0EK-tdciWq",
        "colab_type": "text"
      },
      "source": [
        "### Προσθήκη συμβολοσειρών με το +"
      ]
    },
    {
      "cell_type": "code",
      "metadata": {
        "id": "wK5s4650ciWr",
        "colab_type": "code",
        "outputId": "74e27cf8-e92b-484a-ba5a-fae8eebf4b25",
        "colab": {
          "base_uri": "https://localhost:8080/",
          "height": 34
        }
      },
      "source": [
        "a = 'H Python einai'\n",
        "b = 'mia evkoli glwssa'\n",
        "print (a + ' ' + b)"
      ],
      "execution_count": 0,
      "outputs": [
        {
          "output_type": "stream",
          "text": [
            "H Python einai mia evkoli glwssa\n"
          ],
          "name": "stdout"
        }
      ]
    },
    {
      "cell_type": "markdown",
      "metadata": {
        "id": "sbs9285LciWv",
        "colab_type": "text"
      },
      "source": [
        "### Συνένωση συμβολοσειρών με το join"
      ]
    },
    {
      "cell_type": "code",
      "metadata": {
        "id": "1MotWsYsciWv",
        "colab_type": "code",
        "outputId": "7f3295f8-72e9-4c9f-af36-c07773304998",
        "colab": {
          "base_uri": "https://localhost:8080/",
          "height": 67
        }
      },
      "source": [
        "a = 'H Python einai'\n",
        "b = 'mia evkoli glwssa'\n",
        "\n",
        "print (' '.join([a,b]))\n",
        "# 'Η ως εξής:\n",
        "print (''.join([a, ' ', b]))\n",
        "# Διαφορετικά, η συνένωση μπορεί να γίνει στα στοιχεία μιας λίστας:\n",
        "words = ['H', 'Python', 'einai', 'mia', 'evkoli', 'glwssa']\n",
        "print (' '.join(words))"
      ],
      "execution_count": 0,
      "outputs": [
        {
          "output_type": "stream",
          "text": [
            "H Python einai mia evkoli glwssa\n",
            "H Python einai mia evkoli glwssa\n",
            "H Python einai mia evkoli glwssa\n"
          ],
          "name": "stdout"
        }
      ]
    },
    {
      "cell_type": "markdown",
      "metadata": {
        "id": "dTm3AXqiciWz",
        "colab_type": "text"
      },
      "source": [
        "### Χωρισμός συμβολοσειρών με το split"
      ]
    },
    {
      "cell_type": "code",
      "metadata": {
        "id": "Umi5Z5UociW0",
        "colab_type": "code",
        "outputId": "a89ba85d-fa04-425a-9293-eda2778a2e25",
        "colab": {
          "base_uri": "https://localhost:8080/",
          "height": 67
        }
      },
      "source": [
        "s = 'H Python einai mia evkoli glwssa'\n",
        "# Όπως είδαμε το s.split(' ') παράγει τη λίστα των λέξεων:\n",
        "print (s.split(' '))\n",
        "# Αν προστεθεί και μια τρίτη αριθμητική παράμετρος k, τότε ο διαχωρισμός γίνεται για k λέξεις από αριστερά:\n",
        "print (s.split(' ',3))\n",
        "# Ενώ με την rsplit ο διαχωρισμός γίνεται από δεξιά:\n",
        "print (s.rsplit(' ', 3))"
      ],
      "execution_count": 0,
      "outputs": [
        {
          "output_type": "stream",
          "text": [
            "['H', 'Python', 'einai', 'mia', 'evkoli', 'glwssa']\n",
            "['H', 'Python', 'einai', 'mia evkoli glwssa']\n",
            "['H Python einai', 'mia', 'evkoli', 'glwssa']\n"
          ],
          "name": "stdout"
        }
      ]
    },
    {
      "cell_type": "markdown",
      "metadata": {
        "id": "MEaYgtHZciW3",
        "colab_type": "text"
      },
      "source": [
        "### Απομάκρυνση αρχικών ή τελικών κενών με το strip"
      ]
    },
    {
      "cell_type": "code",
      "metadata": {
        "id": "X9AyncejciW3",
        "colab_type": "code",
        "outputId": "62080e04-994f-4247-8048-7f265e9ba0b4",
        "colab": {
          "base_uri": "https://localhost:8080/",
          "height": 84
        }
      },
      "source": [
        "s = '      H Python einai mia evkoli glwssa   '\n",
        "print (s)\n",
        "print (s.strip())\n",
        "s = s.strip()\n",
        "# Παρόμοια, μπορούν να απομακρυνθούν κι άλλα γράμματα από αριστερά\n",
        "print (s.strip('H '))\n",
        "# 'Η από δεξιά μέσω της rstrip\n",
        "print (s.rstrip('glwssa'))"
      ],
      "execution_count": 0,
      "outputs": [
        {
          "output_type": "stream",
          "text": [
            "      H Python einai mia evkoli glwssa   \n",
            "H Python einai mia evkoli glwssa\n",
            "Python einai mia evkoli glwssa\n",
            "H Python einai mia evkoli \n"
          ],
          "name": "stdout"
        }
      ]
    },
    {
      "cell_type": "markdown",
      "metadata": {
        "id": "IaM0ulTyciW5",
        "colab_type": "text"
      },
      "source": [
        "### Εύρεση δεικτών συμβολοσειράς με το find"
      ]
    },
    {
      "cell_type": "code",
      "metadata": {
        "id": "dFEK0GXEciW6",
        "colab_type": "code",
        "outputId": "1b2cc1b6-45d8-4550-cc61-211a4cbb85f6",
        "colab": {
          "base_uri": "https://localhost:8080/",
          "height": 84
        }
      },
      "source": [
        "s = 'H Python einai mia evkoli glwssa'\n",
        "# Το find βρίσκει τον δείκτη του συμβόλου, όπου εμφανίζεται για πρώτη φορά το σύμβολο αυτό:\n",
        "print (s.find('i'))\n",
        "# Αν το σύμβολο δεν υπάρχει, το find επιστρέφει -1:\n",
        "print (s.find('z'))\n",
        "# Το rfind κάνει το ίδιο πράγμα αλλά από δεξιά:\n",
        "print (s.rfind('i'))\n",
        "# Συχνά το find χρησιμοποιείται σε βρόχους ως εξής:\n",
        "fruits = ['banana', 'apple', 'cherry', 'orange']\n",
        "afruits = []\n",
        "for fruit in fruits:\n",
        "    if fruit.find('e') >= 0:\n",
        "        afruits.append(fruit)\n",
        "print (afruits)"
      ],
      "execution_count": 0,
      "outputs": [
        {
          "output_type": "stream",
          "text": [
            "10\n",
            "-1\n",
            "24\n",
            "['apple', 'cherry', 'orange']\n"
          ],
          "name": "stdout"
        }
      ]
    },
    {
      "cell_type": "markdown",
      "metadata": {
        "id": "iE06qsLyciW-",
        "colab_type": "text"
      },
      "source": [
        "### Απαρίθμηση με το count"
      ]
    },
    {
      "cell_type": "code",
      "metadata": {
        "id": "zj1vmDi5ciW_",
        "colab_type": "code",
        "outputId": "93be0941-ce7d-4256-abb4-1e3eed7a02bb",
        "colab": {
          "base_uri": "https://localhost:8080/",
          "height": 67
        }
      },
      "source": [
        "s = 'H Python einai mia evkoli glwssa'\n",
        "# Το count απαριθμεί πόσες φορές εμπανίζεται μια υποσυμβολοσειρά σε μια συμβολοσειρά:\n",
        "print (s.count('i'))\n",
        "print (s.count('s'))\n",
        "# Η απαρίθμηση μπορεί να περιορισθεί σε συγκεκριμένο εύρος δεικτών συμβόλων της συμβολοσειράς:\n",
        "print (s.count('i', 15, 25))"
      ],
      "execution_count": 0,
      "outputs": [
        {
          "output_type": "stream",
          "text": [
            "4\n",
            "2\n",
            "2\n"
          ],
          "name": "stdout"
        }
      ]
    },
    {
      "cell_type": "markdown",
      "metadata": {
        "id": "W4tcqoOhciXD",
        "colab_type": "text"
      },
      "source": [
        "### Μετατροπή σε μικρά ή κεφαλαία γράμματα με τα lower και upper"
      ]
    },
    {
      "cell_type": "code",
      "metadata": {
        "id": "UtCWNnoiciXF",
        "colab_type": "code",
        "outputId": "67fceac2-e92c-4f96-c0a1-4beffc151e74",
        "colab": {
          "base_uri": "https://localhost:8080/",
          "height": 50
        }
      },
      "source": [
        "s = 'H Python einai mia evkoli glwssa'\n",
        "print (s.lower())\n",
        "print (s.upper())"
      ],
      "execution_count": 0,
      "outputs": [
        {
          "output_type": "stream",
          "text": [
            "h python einai mia evkoli glwssa\n",
            "H PYTHON EINAI MIA EVKOLI GLWSSA\n"
          ],
          "name": "stdout"
        }
      ]
    },
    {
      "cell_type": "markdown",
      "metadata": {
        "id": "iDTGzLTPciXI",
        "colab_type": "text"
      },
      "source": [
        "### Στοίχιση συμβολοσειράς με τα ljust, rjust και center"
      ]
    },
    {
      "cell_type": "code",
      "metadata": {
        "id": "6aSktL5uciXJ",
        "colab_type": "code",
        "outputId": "ed6d2dd6-b205-4c31-c489-b20d01b5a63f",
        "colab": {
          "base_uri": "https://localhost:8080/",
          "height": 67
        }
      },
      "source": [
        "s = 'H Python einai mia evkoli glwssa'\n",
        "print (s.ljust(40))\n",
        "print (s.rjust(40))\n",
        "print (s.center(40))"
      ],
      "execution_count": 0,
      "outputs": [
        {
          "output_type": "stream",
          "text": [
            "H Python einai mia evkoli glwssa        \n",
            "        H Python einai mia evkoli glwssa\n",
            "    H Python einai mia evkoli glwssa    \n"
          ],
          "name": "stdout"
        }
      ]
    },
    {
      "cell_type": "markdown",
      "metadata": {
        "id": "pICAPUzJciXO",
        "colab_type": "text"
      },
      "source": [
        "### Αντικαταστάσεις υποσυμβολοσειράς με το replace"
      ]
    },
    {
      "cell_type": "code",
      "metadata": {
        "id": "jAXOBePjciXP",
        "colab_type": "code",
        "outputId": "534c7e1e-7b82-4930-9b92-3dcaaf0eb0b7",
        "colab": {
          "base_uri": "https://localhost:8080/",
          "height": 67
        }
      },
      "source": [
        "s = 'H Python einai mia evkoli glwssa'\n",
        "print (s.replace('P', 'An'))\n",
        "print (s.replace('mi', 'L'))\n",
        "# Αντικαταστάσεις μόνο για τις πρώτες k εμφανίσεις (όπου k παράμετρος):\n",
        "print (s.replace('i', 'o', 3))"
      ],
      "execution_count": 0,
      "outputs": [
        {
          "output_type": "stream",
          "text": [
            "H Anython einai mia evkoli glwssa\n",
            "H Python einai La evkoli glwssa\n",
            "H Python eonao moa evkoli glwssa\n"
          ],
          "name": "stdout"
        }
      ]
    },
    {
      "cell_type": "markdown",
      "metadata": {
        "id": "381dTD-_ciXS",
        "colab_type": "text"
      },
      "source": [
        "### Εξακρίβωση συμβόλου/ων έναρξης ή τερματισμού συμβολοσειράς με τα startswith και endswith"
      ]
    },
    {
      "cell_type": "code",
      "metadata": {
        "id": "iDO5MOV8ciXT",
        "colab_type": "code",
        "outputId": "d7aba2a3-ab69-45fa-cbec-7c4ba6595321",
        "colab": {
          "base_uri": "https://localhost:8080/",
          "height": 84
        }
      },
      "source": [
        "s = 'H Python einai mia evkoli glwssa'\n",
        "print (s.startswith('H'))\n",
        "print (s.startswith('e'))\n",
        "print (s.endswith('ssa'))\n",
        "print (s.endswith('b'))"
      ],
      "execution_count": 0,
      "outputs": [
        {
          "output_type": "stream",
          "text": [
            "True\n",
            "False\n",
            "True\n",
            "False\n"
          ],
          "name": "stdout"
        }
      ]
    },
    {
      "cell_type": "markdown",
      "metadata": {
        "id": "MF0Mn8OjciXX",
        "colab_type": "text"
      },
      "source": [
        "### Εξακρίβωση αν τα σύμβολα μιας συμβολοσειράς είναι μόνο γράμματα με το isalpha"
      ]
    },
    {
      "cell_type": "code",
      "metadata": {
        "id": "9Nz_BvLOciXY",
        "colab_type": "code",
        "outputId": "d920760f-834c-464c-8b46-94bc68126241",
        "colab": {
          "base_uri": "https://localhost:8080/",
          "height": 118
        }
      },
      "source": [
        "s = 'H Python einai mia evkoli glwssa'\n",
        "print (s)\n",
        "print (s.isalpha())\n",
        "s = s.replace(' ', '')\n",
        "print (s)\n",
        "print (s.isalpha())\n",
        "t = s.replace('glwssa', 'glwssa!')\n",
        "print (t)\n",
        "print (t.isalpha())"
      ],
      "execution_count": 0,
      "outputs": [
        {
          "output_type": "stream",
          "text": [
            "H Python einai mia evkoli glwssa\n",
            "False\n",
            "HPythoneinaimiaevkoliglwssa\n",
            "True\n",
            "HPythoneinaimiaevkoliglwssa!\n",
            "False\n"
          ],
          "name": "stdout"
        }
      ]
    },
    {
      "cell_type": "code",
      "metadata": {
        "id": "EWYQyEr_ciX8",
        "colab_type": "code",
        "colab": {}
      },
      "source": [
        ""
      ],
      "execution_count": 0,
      "outputs": []
    }
  ]
}